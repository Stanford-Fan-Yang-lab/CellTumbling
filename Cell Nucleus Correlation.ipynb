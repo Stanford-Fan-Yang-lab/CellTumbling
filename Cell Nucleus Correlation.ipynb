{
 "cells": [
  {
   "cell_type": "markdown",
   "id": "413a3a0f",
   "metadata": {},
   "source": [
    "## Cell-Nucleus Correlation"
   ]
  },
  {
   "cell_type": "code",
   "execution_count": null,
   "id": "0f8620e6",
   "metadata": {},
   "outputs": [],
   "source": [
    "import cv2\n",
    "import numpy as np\n",
    "import pandas as pd\n",
    "import matplotlib.pyplot as plt\n",
    "from scipy.stats import spearmanr"
   ]
  },
  {
   "cell_type": "code",
   "execution_count": null,
   "id": "bbec5481",
   "metadata": {},
   "outputs": [],
   "source": [
    "# Conversions\n",
    "# 1 frame is 15 minutes\n",
    "# 10.5 pixels is 1 um "
   ]
  },
  {
   "cell_type": "code",
   "execution_count": null,
   "id": "efe4aee0",
   "metadata": {},
   "outputs": [],
   "source": [
    "def preprocess(channel):\n",
    "    \n",
    "    # Blur, threashold, and close as preprocessing \n",
    "    blurred = cv2.GaussianBlur(channel, (9, 9), 0)\n",
    "    _, thresh = cv2.threshold(blurred, 0, 255, cv2.THRESH_OTSU)\n",
    "    kernel = np.ones((3,3), np.uint8)\n",
    "    closing = cv2.morphologyEx(thresh, cv2.MORPH_CLOSE, kernel, iterations=4)\n",
    "    \n",
    "    return closing\n",
    "\n",
    "def findBoundaries(channel):\n",
    "    preprocessed = preprocess(channel)\n",
    "    contours, _ = cv2.findContours(preprocessed, cv2.RETR_EXTERNAL, cv2.CHAIN_APPROX_SIMPLE)\n",
    "    \n",
    "    # Filter out contours that are too small or match the image boundary\n",
    "    good_contours = []\n",
    "    img_height, img_width = channel.shape\n",
    "    for contour in contours:\n",
    "        x, y, w, h = cv2.boundingRect(contour)\n",
    "        # Exclude contours that are at the boundary of the image or too small\n",
    "        if (x > 1 and y > 1 and x + w < img_width - 1 and y + h < img_height - 1) and cv2.contourArea(contour) > 100:  # Threshold\n",
    "            good_contours.append(contour)\n",
    "    \n",
    "    # Assuming the largest remaining contour is the cell/nucleus\n",
    "    if good_contours:\n",
    "        largest_contour = max(good_contours, key=cv2.contourArea)\n",
    "        return largest_contour\n",
    "    else:\n",
    "        return None \n",
    "\n",
    "def findCentroid(contour):\n",
    "    M = cv2.moments(contour)\n",
    "    cx = int(M['m10']/M['m00'])\n",
    "    cy = int(M['m01']/M['m00'])\n",
    "    return cx, cy\n",
    "\n",
    "def compute_velocity_angles(df):\n",
    "    # Calculate differences between consecutive frames for x and y coordinates\n",
    "    df['cell_dx'] = df['cell_centroid_x'].diff()\n",
    "    df['cell_dy'] = df['cell_centroid_y'].diff()\n",
    "    df['nucleus_dx'] = df['nucleus_centroid_x'].diff()\n",
    "    df['nucleus_dy'] = df['nucleus_centroid_y'].diff()\n",
    "    \n",
    "    # Calculate angles in radians\n",
    "    df['cell_angle_rad'] = np.arctan2(df['cell_dy'], df['cell_dx'])\n",
    "    df['nucleus_angle_rad'] = np.arctan2(df['nucleus_dy'], df['nucleus_dx'])\n",
    "    \n",
    "    # Convert angles from radians to degrees for easier interpretation\n",
    "    df['cell_angle_deg'] = np.degrees(df['cell_angle_rad'])\n",
    "    df['nucleus_angle_deg'] = np.degrees(df['nucleus_angle_rad'])\n",
    "\n",
    "    # Calculate velocity\n",
    "    df['cell_vel'] = np.sqrt(np.square(df['cell_dy']) + np.square(df['cell_dx']))\n",
    "    df['nucleus_vel'] = np.sqrt(np.square(df['nucleus_dy']) + np.square(df['nucleus_dx']))\n",
    "    \n",
    "    # Convert frames to min\n",
    "    df['time'] = df['frame'] * 15\n",
    "    \n",
    "    # Convert velocity to um/min \n",
    "    df['cell_vel_scaled'] = df['cell_vel'] / 15 / 10.5\n",
    "    df['nucleus_vel_scaled'] = df['nucleus_vel'] / 15 / 10.5\n",
    "    \n",
    "    return df\n",
    "\n",
    "def process_video(video_path):\n",
    "    cap = cv2.VideoCapture(video_path)\n",
    "    centroids = {'frame': [], 'cell_centroid_x': [], 'cell_centroid_y': [], 'nucleus_centroid_x': [], 'nucleus_centroid_y': []}\n",
    "    \n",
    "    while cap.isOpened():\n",
    "        ret, frame = cap.read()\n",
    "        if not ret:\n",
    "            break\n",
    "        frame_number = int(cap.get(cv2.CAP_PROP_POS_FRAMES))\n",
    "        \n",
    "        # Split channels\n",
    "        red_channel = frame[:, :, 2]\n",
    "        green_channel = frame[:, :, 1]\n",
    "            \n",
    "        # Find boundaries\n",
    "        cell_contour = findBoundaries(green_channel)\n",
    "        nucleus_contour = findBoundaries(red_channel)\n",
    "        \n",
    "        # Find centroids\n",
    "        cell_centroid = findCentroid(cell_contour)\n",
    "        nucleus_centroid = findCentroid(nucleus_contour)\n",
    "        \n",
    "        centroids['frame'].append(frame_number)\n",
    "        centroids['cell_centroid_x'].append(cell_centroid[0])\n",
    "        centroids['cell_centroid_y'].append(cell_centroid[1])\n",
    "        centroids['nucleus_centroid_x'].append(nucleus_centroid[0])\n",
    "        centroids['nucleus_centroid_y'].append(nucleus_centroid[1])\n",
    "            \n",
    "    cap.release()\n",
    "    df = pd.DataFrame(centroids)\n",
    "    \n",
    "    return compute_velocity_angles(df)\n"
   ]
  },
  {
   "cell_type": "code",
   "execution_count": null,
   "id": "d601a8e0",
   "metadata": {},
   "outputs": [],
   "source": [
    "def plotting_data(df):\n",
    "    plt.style.use('classic') \n",
    "    \n",
    "    # Nucleus and cell speed\n",
    "    \n",
    "    plt.figure(figsize=(6, 4))\n",
    "\n",
    "    plt.plot(df['frame'] * 15, df['cell_vel'] / 15 / 10.5, label='Whole Cell', marker='s', linestyle='--', markersize=5, linewidth=1)\n",
    "    plt.plot(df['frame'] * 15, df['nucleus_vel'] / 15 / 10.5, label='Nucleus', marker='o', linestyle='-', markersize=5, linewidth=1)\n",
    "    \n",
    "    plt.title('Cell and Nucleus Velocity Over Time') \n",
    "    plt.xlabel('Time (min)') \n",
    "    plt.ylabel('Vel (μm/min)')  \n",
    "    plt.legend(loc='upper left')  \n",
    "\n",
    "    plt.tight_layout()  \n",
    "    plt.show()\n",
    "    \n",
    "    \n",
    "    # Nucleus and cell angles\n",
    "\n",
    "    plt.figure(figsize=(6, 4))\n",
    "\n",
    "    plt.plot(df['frame'] * 15, df['cell_angle_deg'], label='Whole Cell', marker='s', linestyle='--', markersize=5, linewidth=1, color='green')\n",
    "    plt.plot(df['frame'] * 15, df['nucleus_angle_deg'], label='Nucleus', marker='o', linestyle='-', markersize=5, linewidth=1)\n",
    "    \n",
    "    plt.title('Cell and Nucleus Velocity Direction Over Time')\n",
    "    plt.xlabel('Time (min)') \n",
    "    plt.ylabel('Velocity Direction (deg)')\n",
    "    plt.legend(loc='upper left')\n",
    "\n",
    "    plt.tight_layout()  \n",
    "    plt.show()"
   ]
  },
  {
   "cell_type": "code",
   "execution_count": null,
   "id": "34c4b121",
   "metadata": {},
   "outputs": [],
   "source": [
    "def correlation(df):\n",
    "\n",
    "    nucleus_angles = df['nucleus_angle_deg']\n",
    "    cell_angles = df['cell_angle_deg']\n",
    "    \n",
    "    nucleus_vel = df['nucleus_vel']\n",
    "    cell_vel = df['cell_vel']\n",
    "\n",
    "    # Compute Spearman's rank correlation\n",
    "    angle, p_value = spearmanr(nucleus_angles, cell_angles, nan_policy='omit')\n",
    "    vel, p_value = spearmanr(nucleus_vel, cell_vel, nan_policy='omit')\n",
    "\n",
    "    return vel, angle"
   ]
  },
  {
   "cell_type": "markdown",
   "id": "78921e88",
   "metadata": {},
   "source": [
    "# Results"
   ]
  },
  {
   "cell_type": "code",
   "execution_count": null,
   "id": "45ed23fd",
   "metadata": {
    "scrolled": false
   },
   "outputs": [],
   "source": [
    "video_path = 'Actin-nucleus co-stain 3.mp4'\n",
    "df = process_video(video_path)\n",
    "plotting_data(df)\n",
    "print(correlation(df))"
   ]
  },
  {
   "cell_type": "code",
   "execution_count": null,
   "id": "1cf31e17",
   "metadata": {},
   "outputs": [],
   "source": [
    "df.to_csv(\"CellNucleusCorrelation.csv\")"
   ]
  },
  {
   "cell_type": "code",
   "execution_count": null,
   "id": "5d8625a1",
   "metadata": {},
   "outputs": [],
   "source": [
    "df"
   ]
  }
 ],
 "metadata": {
  "kernelspec": {
   "display_name": "Python 3 (ipykernel)",
   "language": "python",
   "name": "python3"
  },
  "language_info": {
   "codemirror_mode": {
    "name": "ipython",
    "version": 3
   },
   "file_extension": ".py",
   "mimetype": "text/x-python",
   "name": "python",
   "nbconvert_exporter": "python",
   "pygments_lexer": "ipython3",
   "version": "3.9.12"
  }
 },
 "nbformat": 4,
 "nbformat_minor": 5
}
