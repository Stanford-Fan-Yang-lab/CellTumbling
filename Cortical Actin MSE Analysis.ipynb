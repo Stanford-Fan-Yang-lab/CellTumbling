{
 "cells": [
  {
   "cell_type": "markdown",
   "id": "d284cd4c",
   "metadata": {},
   "source": [
    "# Cortical Actin MSE Analysis"
   ]
  },
  {
   "cell_type": "markdown",
   "id": "521c57f9",
   "metadata": {},
   "source": [
    "### Imports"
   ]
  },
  {
   "cell_type": "code",
   "execution_count": null,
   "id": "20a28e6c",
   "metadata": {},
   "outputs": [],
   "source": [
    "import numpy as np\n",
    "import cv2\n",
    "import pandas as pd\n",
    "import os \n",
    "from itertools import product\n",
    "import matplotlib.pyplot as plt"
   ]
  },
  {
   "cell_type": "markdown",
   "id": "7b627810",
   "metadata": {},
   "source": [
    "### MSE Function"
   ]
  },
  {
   "cell_type": "code",
   "execution_count": null,
   "id": "a0f08d51",
   "metadata": {},
   "outputs": [],
   "source": [
    "def computeMSE(folder_path, video_path):\n",
    "    \n",
    "    cap = cv2.VideoCapture(folder_path + video_path)\n",
    "    width = int(cap.get(cv2.CAP_PROP_FRAME_WIDTH))\n",
    "    height = int(cap.get(cv2.CAP_PROP_FRAME_HEIGHT))\n",
    "\n",
    "    MSE_scores = []\n",
    "    \n",
    "    # Initialize first frame before starting loop \n",
    "    ret, prev_frame = cap.read()\n",
    "    \n",
    "    # Conversion to grayscale necessary\n",
    "    prev_frame = cv2.cvtColor(prev_frame, cv2.COLOR_BGR2GRAY)\n",
    "    \n",
    "    # Convert color to gray, remove timer/scale bar, erode, binarize, save\n",
    "    for i,j in product(range(50), range(100)):\n",
    "        prev_frame[i, j] = 0\n",
    "    for i,j in product(range(height - 50, height), range(width - 200, width)):\n",
    "        prev_frame[i, j] = 0\n",
    "    \n",
    "    kernel = np.ones((3, 3), np.uint8)\n",
    "    prev_frame = cv2.GaussianBlur(prev_frame,(3,3),0)\n",
    "    prev_frame = cv2.erode(prev_frame, kernel, iterations=1)\n",
    "\n",
    "    while True:\n",
    "        ret, current_frame = cap.read()\n",
    "\n",
    "        if not ret:\n",
    "            break\n",
    "        \n",
    "        # Same modifications as above\n",
    "        current_frame = cv2.cvtColor(current_frame, cv2.COLOR_BGR2GRAY)\n",
    "        for i,j in product(range(50), range(100)):\n",
    "            current_frame[i, j] = 0\n",
    "        for i,j in product(range(height - 50, height), range(width - 200, width)):\n",
    "            current_frame[i, j] = 0\n",
    "        kernel = np.ones((3, 3), np.uint8)\n",
    "        current_frame = cv2.GaussianBlur(current_frame,(3,3),0)\n",
    "        current_frame = cv2.erode(current_frame, kernel, iterations=1)\n",
    "\n",
    "        # Mean Squared Error\n",
    "        MSE = np.mean((prev_frame - current_frame) ** 2)\n",
    "        MSE_scores.append(MSE)\n",
    "        \n",
    "        # Update the previous frame\n",
    "        prev_frame = current_frame\n",
    "\n",
    "    cap.release()\n",
    "    \n",
    "    MSE_scores_av = np.nanmean(MSE_scores)\n",
    "    \n",
    "    return MSE_scores_av\n"
   ]
  },
  {
   "cell_type": "code",
   "execution_count": null,
   "id": "083330cb",
   "metadata": {},
   "outputs": [],
   "source": [
    "def main(folder_path):\n",
    "    \n",
    "    MSE_scores_all = []\n",
    "    \n",
    "    videos = os.listdir(folder_path)\n",
    "    videos.sort()\n",
    "    \n",
    "    for video in videos:\n",
    "        MSE = computeMSE(folder_path, video)\n",
    "        MSE_scores_all.append(MSE)\n",
    "       \n",
    "    return MSE_scores_all"
   ]
  },
  {
   "cell_type": "markdown",
   "id": "7011b351",
   "metadata": {},
   "source": [
    "### Computations"
   ]
  },
  {
   "cell_type": "markdown",
   "id": "5e1ef258",
   "metadata": {},
   "source": [
    "#### Chondrogenesis CG Day 0"
   ]
  },
  {
   "cell_type": "code",
   "execution_count": null,
   "id": "81b870c0",
   "metadata": {
    "scrolled": true
   },
   "outputs": [],
   "source": [
    "folder_path = '/Users/gm/Library/CloudStorage/OneDrive-Stanford/Research/Dancing Corrections/Day 0 Lifeact/CG/'\n",
    "CG_MSE = main(folder_path)"
   ]
  },
  {
   "cell_type": "code",
   "execution_count": null,
   "id": "6647a283",
   "metadata": {},
   "outputs": [],
   "source": [
    "# See Results\n",
    "print(\"CG Mean Squared Error\")\n",
    "print(CG_MSE)\n",
    "print(\"Mean: \" + str(np.mean(CG_MSE)))"
   ]
  },
  {
   "cell_type": "markdown",
   "id": "98303a3f",
   "metadata": {},
   "source": [
    "#### Chondrogenesis SG Day 0"
   ]
  },
  {
   "cell_type": "code",
   "execution_count": null,
   "id": "c4b056e8",
   "metadata": {},
   "outputs": [],
   "source": [
    "folder_path = '/Users/gm/Library/CloudStorage/OneDrive-Stanford/Research/Dancing Corrections/Day 0 Lifeact/SG/'\n",
    "SG_MSE = main(folder_path)"
   ]
  },
  {
   "cell_type": "code",
   "execution_count": null,
   "id": "3cbd7b49",
   "metadata": {},
   "outputs": [],
   "source": [
    "# See Results\n",
    "print(\"SG Mean Squared Error\")\n",
    "print(SG_MSE)\n",
    "print(\"Mean: \" + str(np.mean(SG_MSE)))"
   ]
  },
  {
   "cell_type": "code",
   "execution_count": null,
   "id": "b33c5eb3",
   "metadata": {},
   "outputs": [],
   "source": []
  }
 ],
 "metadata": {
  "kernelspec": {
   "display_name": "Python 3 (ipykernel)",
   "language": "python",
   "name": "python3"
  },
  "language_info": {
   "codemirror_mode": {
    "name": "ipython",
    "version": 3
   },
   "file_extension": ".py",
   "mimetype": "text/x-python",
   "name": "python",
   "nbconvert_exporter": "python",
   "pygments_lexer": "ipython3",
   "version": "3.9.12"
  }
 },
 "nbformat": 4,
 "nbformat_minor": 5
}
