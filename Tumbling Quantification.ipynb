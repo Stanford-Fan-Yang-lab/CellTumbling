{
 "cells": [
  {
   "cell_type": "markdown",
   "id": "2980d655",
   "metadata": {},
   "source": [
    "# Tumbling Quantification"
   ]
  },
  {
   "cell_type": "markdown",
   "id": "6bcfcf11",
   "metadata": {},
   "source": [
    "## Impots"
   ]
  },
  {
   "cell_type": "code",
   "execution_count": null,
   "id": "16bcd1f8",
   "metadata": {},
   "outputs": [],
   "source": [
    "import numpy as np\n",
    "import cv2\n",
    "import pandas as pd\n",
    "import matplotlib.pyplot as plt\n",
    "from itertools import product\n",
    "import os\n",
    "import matplotlib.pyplot as plt\n",
    "import matplotlib.patches as patches\n",
    "from mpl_toolkits import mplot3d\n",
    "from scipy.optimize import curve_fit"
   ]
  },
  {
   "cell_type": "markdown",
   "id": "2abe3928",
   "metadata": {},
   "source": [
    "## Import Video and Extract Boundaries"
   ]
  },
  {
   "cell_type": "code",
   "execution_count": null,
   "id": "4fad349b",
   "metadata": {},
   "outputs": [],
   "source": [
    "def extractBoundaries(fileName, blur):\n",
    "\n",
    "    ContoursSeries = []\n",
    "\n",
    "    # Extract video information\n",
    "    cap = cv2.VideoCapture(fileName)\n",
    "    fps = int(cap.get(cv2.CAP_PROP_FPS))\n",
    "    length = int(cap.get(cv2.CAP_PROP_FRAME_COUNT))\n",
    "    width = int(cap.get(cv2.CAP_PROP_FRAME_WIDTH))\n",
    "    height = int(cap.get(cv2.CAP_PROP_FRAME_HEIGHT))\n",
    "\n",
    "    # Loop through all frames\n",
    "    while(cap.isOpened()):\n",
    "        ret, frame = cap.read()\n",
    "        if ret==True:\n",
    "\n",
    "            # Convert color to gray, remove timer/scale bar, erode, binarize, save\n",
    "            grayImg = cv2.cvtColor(frame, cv2.COLOR_BGR2GRAY)\n",
    "            kernel = np.ones((blur,blur), np.uint8)\n",
    "            blurImg = cv2.GaussianBlur(grayImg,(blur,blur),0)\n",
    "            erodeImg = cv2.erode(blurImg, kernel, iterations=1)\n",
    "            ret, binImg = cv2.threshold(erodeImg,0,255,cv2.THRESH_BINARY + cv2.THRESH_OTSU)\n",
    "            \n",
    "            # Display original and binarized with contours\n",
    "            binImgColor = cv2.cvtColor(binImg,cv2.COLOR_GRAY2RGB)\n",
    "            contours, hierarchy = cv2.findContours(binImg, cv2.RETR_LIST, cv2.CHAIN_APPROX_NONE)\n",
    "            ContoursSeries.append(contours)\n",
    "            cv2.drawContours(binImgColor, contours, -1, (0,255,0), 0)\n",
    "            combined = np.concatenate((frame, binImgColor), axis = 1)\n",
    "            cv2.imshow('frame',combined)\n",
    "            if cv2.waitKey(50) & 0xFF == ord('q'):\n",
    "                break\n",
    "        else:\n",
    "            break\n",
    "\n",
    "    cap.release()\n",
    "    cv2.destroyAllWindows()\n",
    "    cv2.waitKey(1)\n",
    "    \n",
    "    return ContoursSeries"
   ]
  },
  {
   "cell_type": "markdown",
   "id": "1258b16b",
   "metadata": {},
   "source": [
    "## Rotated Ellipse Equation"
   ]
  },
  {
   "cell_type": "code",
   "execution_count": null,
   "id": "b41c2c9e",
   "metadata": {},
   "outputs": [],
   "source": [
    "def rotatedEllipse(X, a, b, theta):\n",
    "    x, y = X\n",
    "    result = ((1/b * np.sin(theta))**2 + (1/a * np.cos(theta))**2) * x**2 + 2 * ((1/a)**2 - (1/b)**2) * np.sin(theta) * np.cos(theta) * x * y + ((1/b * np.cos(theta))**2 + (1/a * np.sin(theta))**2) * y**2\n",
    "    return result"
   ]
  },
  {
   "cell_type": "markdown",
   "id": "37e6ac54",
   "metadata": {},
   "source": [
    "## Calculate Params Over All Frames and Rate of Change"
   ]
  },
  {
   "cell_type": "code",
   "execution_count": null,
   "id": "5ca6656a",
   "metadata": {},
   "outputs": [],
   "source": [
    "def ellipseFit(ContoursSeries):\n",
    "    xCents = []\n",
    "    yCents = []\n",
    "    aVals = []\n",
    "    bVals= []\n",
    "    thetaVals = []\n",
    "    xValsAll = []\n",
    "    yValsAll = []\n",
    "    for i in range(len(ContoursSeries)):\n",
    "        boundaries = ContoursSeries[i]\n",
    "        boundaries.sort(key=len, reverse=True)\n",
    "        # Cell boundary always second longest after overall outline of the entire image\n",
    "        if len(boundaries) <= 1:\n",
    "            xCents.append(np.nan)\n",
    "            yCents.append(np.nan)\n",
    "            aVals.append(np.nan)\n",
    "            bVals.append(np.nan)\n",
    "            thetaVals.append(np.nan)\n",
    "        else:\n",
    "            cellBound = boundaries[1]\n",
    "            xvals = np.asarray([pair[0][0] for pair in cellBound])\n",
    "            yvals = np.asarray([pair[0][1] for pair in cellBound])\n",
    "            xValsAll.append(xvals)\n",
    "            yValsAll.append(yvals)\n",
    "            # Calculate mean to shift values to \"origen\"\n",
    "            xcent = np.mean(xvals)\n",
    "            ycent = np.mean(yvals)\n",
    "            ones = np.zeros(len(xvals)) + 1\n",
    "            X = (xvals - xcent, yvals - ycent)\n",
    "            xCents.append(xcent)\n",
    "            yCents.append(ycent)\n",
    "            params, cov = curve_fit(rotatedEllipse, X, ones, bounds=(0, [np.inf, np.inf, np.pi]), method = 'trf')\n",
    "            aVals.append(params[0])\n",
    "            bVals.append(params[1])\n",
    "            thetaVals.append(params[2])\n",
    "    return xCents, yCents, aVals, bVals, thetaVals, xValsAll, yValsAll"
   ]
  },
  {
   "cell_type": "code",
   "execution_count": null,
   "id": "7430063c",
   "metadata": {},
   "outputs": [],
   "source": [
    "def findDistancesCoords(xCoords, yCoords):\n",
    "    diffs = []\n",
    "    x1 = xCoords[0]\n",
    "    y1 = yCoords[0]\n",
    "    for i in range(len(xCoords) - 1):\n",
    "        x2 = xCoords[i + 1]\n",
    "        y2 = yCoords[i + 1]\n",
    "        if x2 != np.nan:\n",
    "            diff = np.sqrt((x2 - x1) ** 2 + (y2 - y1) ** 2)\n",
    "            diffs.append(diff)\n",
    "            x1 = x2\n",
    "            y1 = y2\n",
    "    return diffs"
   ]
  },
  {
   "cell_type": "code",
   "execution_count": null,
   "id": "108ab464",
   "metadata": {},
   "outputs": [],
   "source": [
    "def avLinVel(xCoords, yCoords, timeGap):\n",
    "    diffs = findDistancesCoords(xCoords, yCoords)\n",
    "    return np.nanmean(np.absolute(diffs)) / timeGap"
   ]
  },
  {
   "cell_type": "code",
   "execution_count": null,
   "id": "4dd2b83d",
   "metadata": {},
   "outputs": [],
   "source": [
    "def fixThetas(aVals, bVals, thetaVals):\n",
    "    thetaNew = []\n",
    "    halfCirc = np.pi / 2\n",
    "    for i in range(len(thetaVals)):\n",
    "        if aVals[i] >= bVals[i]:\n",
    "            thetaNew.append(thetaVals[i])\n",
    "        else: \n",
    "            # Case where minor axis in second quad\n",
    "            if thetaVals[i] >= halfCirc:\n",
    "                thetaNew.append(thetaVals[i] - halfCirc)\n",
    "            # Case where minor axis first quad\n",
    "            else: \n",
    "                thetaNew.append(thetaVals[i] + halfCirc)\n",
    "    return thetaNew   \n",
    "                "
   ]
  },
  {
   "cell_type": "code",
   "execution_count": null,
   "id": "f3207240",
   "metadata": {},
   "outputs": [],
   "source": [
    "def findDifference(vals):\n",
    "    diffs = []\n",
    "    first = vals[0]\n",
    "    for i in range(len(vals) - 1):\n",
    "        second = vals[i + 1]\n",
    "        if second != np.nan:\n",
    "            # Assumption here is that rotation from frame to frame take min path \n",
    "            diff = min(abs(second - first), abs((second - np.pi) - first), abs(second - (np.pi - first)))\n",
    "            diffs.append(diff)\n",
    "            first = second\n",
    "    return diffs"
   ]
  },
  {
   "cell_type": "code",
   "execution_count": null,
   "id": "6768856c",
   "metadata": {},
   "outputs": [],
   "source": [
    "def avAngularVel(vals, timeGap):\n",
    "    diffs = findDifference(vals)\n",
    "    return np.nanmean(np.absolute(diffs)) / timeGap"
   ]
  },
  {
   "cell_type": "markdown",
   "id": "e3f5536e",
   "metadata": {},
   "source": [
    "## Visualize the Fit for the Ellipses"
   ]
  },
  {
   "cell_type": "code",
   "execution_count": null,
   "id": "ec221a17",
   "metadata": {},
   "outputs": [],
   "source": [
    "def visualizeEllipse(fileName, ContoursSeries, xCents, yCents, aVals, bVals, thetaVals):\n",
    "    \n",
    "    cap = cv2.VideoCapture(fileName)\n",
    "    fps = int(cap.get(cv2.CAP_PROP_FPS))\n",
    "    length = int(cap.get(cv2.CAP_PROP_FRAME_COUNT))\n",
    "    height = int(cap.get(cv2.CAP_PROP_FRAME_HEIGHT))\n",
    "    width = int(cap.get(cv2.CAP_PROP_FRAME_WIDTH))\n",
    "    \n",
    "    i = 0\n",
    "\n",
    "    # Make object to save the video\n",
    "#     saveName = 'Modified.avi'  # change the file name if needed\n",
    "#     imgSize = (height, width)\n",
    "#     frame_per_second = fps\n",
    "#     writer = cv2.VideoWriter(saveName, cv2.VideoWriter_fourcc('M','J','P','G'), frame_per_second, imgSize)\n",
    "    \n",
    "    # Loop through all frames\n",
    "    while(cap.isOpened()):\n",
    "        ret, frame = cap.read()\n",
    "        if ret==True:\n",
    "            \n",
    "            # Convert color to gray, remove timer/scale bar, erode, binarize, save\n",
    "            grayImg = cv2.cvtColor(frame, cv2.COLOR_BGR2GRAY)\n",
    "            kernel = np.ones((13,13), np.uint8)\n",
    "            blurImg = cv2.GaussianBlur(grayImg,(13,13),0)\n",
    "            erodeImg = cv2.erode(blurImg, kernel, iterations=1)\n",
    "            ret, binImg = cv2.threshold(erodeImg,0,255,cv2.THRESH_BINARY + cv2.THRESH_OTSU)\n",
    "\n",
    "            # Display original and binarized with contours + ellipse fit\n",
    "            binImgColor = cv2.cvtColor(binImg,cv2.COLOR_GRAY2RGB)\n",
    "            cv2.drawContours(binImgColor, ContoursSeries[i], -1, (0,255,0), 0)\n",
    "            if not np.isnan(xCents[i]):\n",
    "                binImgColor = cv2.circle(binImgColor, (int(xCents[i]), int(yCents[i])), 5, (0,255,0), -1)\n",
    "                binImgColor = cv2.ellipse(binImgColor, (int(xCents[i]), int(yCents[i])), (int(aVals[i]), int(bVals[i])), thetaVals[i] * 180 / np.pi, 0, 360, (255, 0, 0), 2)\n",
    "                if aVals[i] >= bVals[i]:\n",
    "                    binImgColor = cv2.line(binImgColor, (int(xCents[i] + aVals[i] * np.cos(thetaVals[i])), int(yCents[i] + aVals[i] * np.sin(thetaVals[i]))), (int(xCents[i] - aVals[i] * np.cos(thetaVals[i])), int(yCents[i] - aVals[i] * np.sin(thetaVals[i]))), (0, 0, 255), 2)\n",
    "                else:\n",
    "                    thetaValsNew = fixThetas([aVals[i]], [bVals[i]], [thetaVals[i]])\n",
    "                    binImgColor = cv2.line(binImgColor, (int(xCents[i] + bVals[i] * np.cos(thetaValsNew[0])), int(yCents[i] + bVals[i] * np.sin(thetaValsNew[0]))), (int(xCents[i] - bVals[i] * np.cos(thetaValsNew[0])), int(yCents[i] - bVals[i] * np.sin(thetaValsNew[0]))), (0, 0, 255), 2)\n",
    "                # print(aVals[i], bVals[i], thetaVals[i])\n",
    "            combined = np.concatenate((frame, binImgColor), axis = 1)\n",
    "#             writer.write(frame)\n",
    "            cv2.imshow('frame',combined)\n",
    "            \n",
    "            # Move to next values in list\n",
    "            i += 1\n",
    "            \n",
    "            if cv2.waitKey(50) & 0xFF == ord('q'):\n",
    "                break\n",
    "        else:\n",
    "            break\n",
    "\n",
    "    cap.release()\n",
    "    cv2.destroyAllWindows()\n",
    "#     writer.release()\n",
    "    cv2.waitKey(1)\n",
    "    \n",
    "    return"
   ]
  },
  {
   "cell_type": "markdown",
   "id": "1b9c49d9",
   "metadata": {},
   "source": [
    "## Visualize all Boundary Positions"
   ]
  },
  {
   "cell_type": "code",
   "execution_count": null,
   "id": "89e49ab5",
   "metadata": {},
   "outputs": [],
   "source": [
    "def allBoundaries(video, xValsAll, yValsAll):\n",
    "    fig = plt.figure(figsize=(6, 6))\n",
    "    size = len(xValsAll)\n",
    "    cmap = plt.get_cmap('rainbow')\n",
    "    for i in range(len(xValsAll)):\n",
    "        # Change to rainbow color\n",
    "        plt.plot(xValsAll[i], yValsAll[i], ls='-', color = cmap(i / size))\n",
    "        plt.title(video[:-4])\n",
    "        plt.axis('off')\n",
    "        plt.savefig(\"Tumbling/Figures/\" + video[:-4] + \".png\", dpi = 300)\n",
    "    return "
   ]
  },
  {
   "cell_type": "markdown",
   "id": "f6e94597",
   "metadata": {},
   "source": [
    "## Main Function"
   ]
  },
  {
   "cell_type": "code",
   "execution_count": null,
   "id": "6d82d3bd",
   "metadata": {},
   "outputs": [],
   "source": [
    "def mainFunction(path, videos):\n",
    "    blur = 13\n",
    "    avLinVels = []\n",
    "    avAngVels = []\n",
    "    for video in videos:\n",
    "        if '.avi' in video and 'Modified' not in video:\n",
    "            print(video)\n",
    "            filename = path + '/' + video\n",
    "            ContoursSeries = extractBoundaries(filename, blur)\n",
    "            xCents, yCents, aVals, bVals, thetaVals, xValsAll, yValsAll = ellipseFit(ContoursSeries)\n",
    "            fixedThetas = fixThetas(aVals, bVals, thetaVals)\n",
    "            LinVel = avLinVel(xCents, yCents, 5)\n",
    "            AngVel = avAngularVel(fixedThetas, 5)\n",
    "            avLinVels.append(LinVel)\n",
    "            avAngVels.append(AngVel)\n",
    "            visualizeEllipse(filename, ContoursSeries, xCents, yCents, aVals, bVals, thetaVals)\n",
    "            allBoundaries(video, xValsAll, yValsAll)\n",
    "    return avLinVels, avAngVels"
   ]
  },
  {
   "cell_type": "markdown",
   "id": "fdfd2de5",
   "metadata": {},
   "source": [
    "## Project Data"
   ]
  },
  {
   "cell_type": "markdown",
   "id": "78c2b574",
   "metadata": {},
   "source": [
    "### Chondrogenesis SG and CG Day 0 "
   ]
  },
  {
   "cell_type": "code",
   "execution_count": null,
   "id": "ff152e6e",
   "metadata": {
    "scrolled": true
   },
   "outputs": [],
   "source": [
    "# SG\n",
    "path = \"\"\n",
    "images = os.listdir(path)\n",
    "images.sort()\n",
    "avLinVelsSG_D0_Chondro, avAngVelsSG_D0_Chondro = mainFunction(path, images)"
   ]
  },
  {
   "cell_type": "code",
   "execution_count": null,
   "id": "491ebaba",
   "metadata": {},
   "outputs": [],
   "source": [
    "# CG\n",
    "path = \"\"\n",
    "images = os.listdir(path)\n",
    "images.sort()\n",
    "avLinVelsCG_D0_Chondro, avAngVelsCG_D0_Chondro = mainFunction(path, images)"
   ]
  },
  {
   "cell_type": "markdown",
   "id": "ef727ed9",
   "metadata": {},
   "source": [
    "### Chondrogenesis SG Day 4"
   ]
  },
  {
   "cell_type": "code",
   "execution_count": null,
   "id": "d02aefaa",
   "metadata": {},
   "outputs": [],
   "source": [
    "# SG\n",
    "path = \"\"\n",
    "images = os.listdir(path)\n",
    "images.sort()\n",
    "avLinVelsSG_D4_Chondro, avAngVelsSG_D4_Chondro = mainFunction(path, images)"
   ]
  },
  {
   "cell_type": "markdown",
   "id": "b96471b2",
   "metadata": {},
   "source": [
    "### Adipogenesis SG and CG Day 0"
   ]
  },
  {
   "cell_type": "code",
   "execution_count": null,
   "id": "8abad208",
   "metadata": {},
   "outputs": [],
   "source": [
    "# SG\n",
    "path = \"\"\n",
    "images = os.listdir(path)\n",
    "images.sort()\n",
    "avLinVelsSG_D0_Adipo, avAngVelsSG_D0_Adipo = mainFunction(path, images)"
   ]
  },
  {
   "cell_type": "code",
   "execution_count": null,
   "id": "59a2deb9",
   "metadata": {},
   "outputs": [],
   "source": [
    "# CG\n",
    "path = \"\"\n",
    "images = os.listdir(path)\n",
    "images.sort()\n",
    "avLinVelsCG_D0_Adipo, avAngVelsCG_D0_Adipo = mainFunction(path, images)"
   ]
  },
  {
   "cell_type": "markdown",
   "id": "91a7c422",
   "metadata": {},
   "source": [
    "### Degradable CG Day 0 "
   ]
  },
  {
   "cell_type": "code",
   "execution_count": null,
   "id": "b5a0bb19",
   "metadata": {},
   "outputs": [],
   "source": [
    "# CG\n",
    "path = \"\"\n",
    "images = os.listdir(path)\n",
    "images.sort()\n",
    "avLinVelsCG_D0_Deg, avAngVelsCG_D0_Deg = mainFunction(path, images)"
   ]
  },
  {
   "cell_type": "markdown",
   "id": "c95b3a48",
   "metadata": {},
   "source": [
    "### Combine All Data"
   ]
  },
  {
   "cell_type": "code",
   "execution_count": null,
   "id": "f59259d3",
   "metadata": {},
   "outputs": [],
   "source": [
    "# Chondro SG Day 0 \n",
    "data = {'avLinVelsSG_D0_Chondro': avLinVelsSG_D0_Chondro, 'avAngVelsSG_D0_Chondro': avAngVelsSG_D0_Chondro}\n",
    "df_SG_D0_Chondro = pd.DataFrame(data)\n",
    "# Chondro CG Day 0 \n",
    "data = {'avLinVelsCG_D0_Chondro': avLinVelsCG_D0_Chondro, 'avAngVelsCG_D0_Chondro': avAngVelsCG_D0_Chondro}\n",
    "df_CG_D0_Chondro = pd.DataFrame(data)\n",
    "# Chondro SG Day 4\n",
    "data = {'avLinVelsSG_D4_Chondro': avLinVelsSG_D4_Chondro, 'avAngVelsSG_D4_Chondro': avAngVelsSG_D4_Chondro}\n",
    "df_SG_D4_Chondro = pd.DataFrame(data)\n",
    "# Adipo SG Day 0\n",
    "data = {'avLinVelsSG_D0_Adipo': avLinVelsSG_D0_Adipo, 'avAngVelsSG_D0_Adipo': avAngVelsSG_D0_Adipo}\n",
    "df_SG_D0_Adipo = pd.DataFrame(data)\n",
    "# Adipo CG Day 0\n",
    "data = {'avLinVelsCG_D0_Adipo': avLinVelsCG_D0_Adipo, 'avAngVelsCG_D0_Adipo': avAngVelsCG_D0_Adipo}\n",
    "df_CG_D0_Adipo = pd.DataFrame(data)\n",
    "# Deg CG Day 0\n",
    "data = {'avLinVelsCG_D0_Deg': avLinVelsCG_D0_Deg, 'avAngVelsCG_D0_Deg': avAngVelsCG_D0_Deg}\n",
    "df_CG_D0_Deg = pd.DataFrame(data)\n",
    "\n",
    "# Combine All data\n",
    "allData = pd.concat([df_SG_D0_Chondro, df_CG_D0_Chondro, df_SG_D4_Chondro, df_SG_D0_Adipo, df_CG_D0_Adipo, df_CG_D0_Deg], axis=1)\n",
    "allData.to_csv(\"Tumbling/Final Data/allData.csv\")"
   ]
  },
  {
   "cell_type": "code",
   "execution_count": null,
   "id": "69cfc768",
   "metadata": {},
   "outputs": [],
   "source": [
    "allData"
   ]
  },
  {
   "cell_type": "code",
   "execution_count": null,
   "id": "91535cc5",
   "metadata": {},
   "outputs": [],
   "source": []
  }
 ],
 "metadata": {
  "kernelspec": {
   "display_name": "Python 3 (ipykernel)",
   "language": "python",
   "name": "python3"
  },
  "language_info": {
   "codemirror_mode": {
    "name": "ipython",
    "version": 3
   },
   "file_extension": ".py",
   "mimetype": "text/x-python",
   "name": "python",
   "nbconvert_exporter": "python",
   "pygments_lexer": "ipython3",
   "version": "3.9.12"
  }
 },
 "nbformat": 4,
 "nbformat_minor": 5
}
