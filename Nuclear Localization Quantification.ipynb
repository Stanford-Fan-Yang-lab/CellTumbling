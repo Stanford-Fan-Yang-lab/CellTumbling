{
 "cells": [
  {
   "cell_type": "markdown",
   "id": "7aa0ef71",
   "metadata": {},
   "source": [
    "# Nuclear Localization Quantification"
   ]
  },
  {
   "cell_type": "markdown",
   "id": "39291f7a",
   "metadata": {},
   "source": [
    "## Imports"
   ]
  },
  {
   "cell_type": "code",
   "execution_count": null,
   "id": "c826e377",
   "metadata": {},
   "outputs": [],
   "source": [
    "import numpy as np\n",
    "import cv2\n",
    "import pandas as pd\n",
    "import matplotlib.pyplot as plt\n",
    "from itertools import product\n",
    "import os\n",
    "import matplotlib as mpl\n",
    "import matplotlib.pyplot as plt\n",
    "import matplotlib.patches as patches\n",
    "from mpl_toolkits import mplot3d\n",
    "from scipy.optimize import curve_fit\n",
    "import scipy.stats as st"
   ]
  },
  {
   "cell_type": "markdown",
   "id": "7c4537af",
   "metadata": {},
   "source": [
    "## Process Images"
   ]
  },
  {
   "cell_type": "code",
   "execution_count": null,
   "id": "ded453fa",
   "metadata": {
    "scrolled": true
   },
   "outputs": [],
   "source": [
    "def findIntensities(images, nucleusColor, signalColor):\n",
    "    # Define arrays to store distances from nuclei and signal intensities for all cells\n",
    "    allDist = []\n",
    "    allSignal = []\n",
    "    allAverage = pd.DataFrame()\n",
    "    \n",
    "    # Define color dictionary and \n",
    "    colors = {'blue': 0, 'green': 1, 'red': 2, 'all':-1}\n",
    "    maskColor = colors[nucleusColor]\n",
    "    relevantColor = colors[signalColor]\n",
    "\n",
    "    # Loop through all images\n",
    "    for image in images:\n",
    "        if image.endswith(\".jpg\"):\n",
    "            image_path = path + '/' + image\n",
    "            img = cv2.imread(image_path)\n",
    "            \n",
    "            # Determine gray image based on relevant channels\n",
    "            if maskColor == -1:\n",
    "                gray = cv2.cvtColor(img, cv2.COLOR_BGR2GRAY)\n",
    "            else:\n",
    "                gray = img[:,:,maskColor]\n",
    "            \n",
    "            # Apply blur, erosion, and thresholding\n",
    "            blur = cv2.GaussianBlur(gray, (7,7), 0)\n",
    "            kernel = np.ones((11,11), np.uint8)\n",
    "            erode = cv2.erode(blur, kernel, iterations=1)\n",
    "            ret, binImg = cv2.threshold(erode, 0, 255, cv2.THRESH_BINARY + cv2.THRESH_OTSU)\n",
    "            \n",
    "            # Obtain contours, with largest one being that of the nucleus\n",
    "            contours, hierarchy = cv2.findContours(binImg, cv2.RETR_EXTERNAL, cv2.CHAIN_APPROX_NONE)\n",
    "            contours.sort(key=len, reverse=True)\n",
    "            nucBound = contours[0]\n",
    "            print(type(nucBound))\n",
    "            print(nucBound)\n",
    "            \n",
    "            # Define arrays to store values for this nucleus\n",
    "            oneNucDist = []\n",
    "            oneNucSignal = []\n",
    "            \n",
    "            # Loop through all points. If in nulcear bound, find distance to contour and intensity at that point\n",
    "            for y in range(gray.shape[0]):\n",
    "                for x in range(gray.shape[1]):\n",
    "                    dist = cv2.pointPolygonTest(nucBound, (x, y), True)\n",
    "                    if dist >= 0:\n",
    "                        oneNucDist.append(dist)\n",
    "                        signal = img[y, x, relevantColor]\n",
    "    #                     img[y,x,:] = [255, 255, 255]\n",
    "                        oneNucSignal.append(signal)\n",
    "    #         plt.figure(figsize=(3, 3))\n",
    "    #         plt.imshow(img[:,:,::-1])\n",
    "    \n",
    "            # Normalize all distances to the maximum value\n",
    "            maxDist = max(oneNucDist)\n",
    "            oneNucDist = np.asarray(oneNucDist) / maxDist\n",
    "            \n",
    "            # Compute moving average calculation for each and add to data frame\n",
    "            numberBins = 30\n",
    "            averageSignal = binValues(oneNucDist, oneNucSignal, numberBins)\n",
    "            allAverage[image] = averageSignal\n",
    "            \n",
    "            # Add this nucleus' data to that of all others\n",
    "            allDist.append(oneNucDist)\n",
    "            allSignal.append(oneNucSignal)\n",
    "            \n",
    "            # Visualize the boundary on the nucleus\n",
    "#             cv2.drawContours(img, nucBound, -1, (0, 0, 255), 1)\n",
    "#             plt.figure(figsize=(3, 3))\n",
    "#             plt.imshow(img[:,:,::-1])\n",
    "            \n",
    "    # Compute the Average of Bins to determine the trend and confidence interval\n",
    "    means = allAverage.mean(axis=1)\n",
    "    lower_interval = []\n",
    "    upper_interval = []\n",
    "    for i in range(len(allAverage)):\n",
    "        interval = st.t.interval(alpha=0.95, df=len(means[:])-1, loc=means[i], scale=st.sem(allAverage.iloc[i][:]))\n",
    "        lower_interval.append(interval[0])\n",
    "        upper_interval.append(interval[1])\n",
    "    allAverage['mean'] = means\n",
    "    allAverage['lower'] = lower_interval\n",
    "    allAverage['upper'] = upper_interval\n",
    "            \n",
    "    return allAverage"
   ]
  },
  {
   "cell_type": "code",
   "execution_count": null,
   "id": "8febba83",
   "metadata": {},
   "outputs": [],
   "source": [
    "# Allow for customization of the number of bins - within each bin, average of all points\n",
    "# Bin with key value is all the points with that key value up to the next key\n",
    "def binValues(oneNucDist, oneNucSignal, numberBins):\n",
    "    distValues = {}\n",
    "    bins = np.linspace(0, numberBins - 1, numberBins)\n",
    "    bins = np.round(bins, 0)\n",
    "    for b in bins:\n",
    "        distValues[b] = []\n",
    "    for i in range(len(oneNucDist)):\n",
    "        dist = np.floor(oneNucDist[i] * numberBins)\n",
    "        signal = oneNucSignal[i]\n",
    "        if dist == numberBins:\n",
    "            distValues[numberBins-1].append(signal)\n",
    "        else:\n",
    "            distValues[dist].append(signal)\n",
    "    keys = list(distValues.keys())\n",
    "    keys.sort()\n",
    "    averageSignal = [np.mean(distValues[key]) for key in keys]\n",
    "    return averageSignal "
   ]
  },
  {
   "cell_type": "markdown",
   "id": "12f4dfc5",
   "metadata": {},
   "source": [
    "## Dancing Project Data"
   ]
  },
  {
   "cell_type": "markdown",
   "id": "a4a25e04",
   "metadata": {},
   "source": [
    "### Lamin A/C Day 1 Chonrogenesis"
   ]
  },
  {
   "cell_type": "code",
   "execution_count": null,
   "id": "4eb99ee3",
   "metadata": {
    "scrolled": true
   },
   "outputs": [],
   "source": [
    "# SG\n",
    "path = \"\"\n",
    "images = os.listdir(path)\n",
    "images.sort()\n",
    "df_Lamin_SG = findIntensities(images, 'all', 'green')"
   ]
  },
  {
   "cell_type": "code",
   "execution_count": null,
   "id": "0746013e",
   "metadata": {
    "scrolled": true
   },
   "outputs": [],
   "source": [
    "# CG\n",
    "path = \"\"\n",
    "images = os.listdir(path)\n",
    "images.sort()\n",
    "df_Lamin_CG = findIntensities(images, 'all', 'green')"
   ]
  },
  {
   "cell_type": "code",
   "execution_count": null,
   "id": "6e0d0d6b",
   "metadata": {},
   "outputs": [],
   "source": [
    "df_Lamin_SG.to_csv(\"Nuclear Localization/Final Data/df_Lamin_SG.csv\")\n",
    "df_Lamin_CG.to_csv(\"Nuclear Localization/Final Data/df_Lamin_CG.csv\")"
   ]
  },
  {
   "cell_type": "code",
   "execution_count": null,
   "id": "ac350e9f",
   "metadata": {},
   "outputs": [],
   "source": [
    "font = {'family' : 'normal',\n",
    "        'weight' : 'bold',\n",
    "        'size'   : 50}\n",
    "\n",
    "mpl.rc('font', **font)"
   ]
  },
  {
   "cell_type": "code",
   "execution_count": null,
   "id": "6bd155d3",
   "metadata": {
    "scrolled": false
   },
   "outputs": [],
   "source": [
    "# d1 = df_Lamin_SG\n",
    "# d2 = df_Lamin_CG\n",
    "\n",
    "d1 = pd.read_csv(\"Nuclear Localization/Final Data/df_Lamin_SG.csv\")\n",
    "d2 = pd.read_csv(\"Nuclear Localization/Final Data/df_Lamin_CG.csv\")\n",
    "\n",
    "plt.figure(figsize=(8, 8), dpi=300)\n",
    "plt.style.use('default')\n",
    "\n",
    "plt.plot(np.linspace(0,1,29), d1['mean'][:-1], color = '#0000FF', label=\"SG n=\" + str(len(d1.columns)-3))\n",
    "plt.fill_between(np.linspace(0,1,29), d1['lower'][:-1], d1['upper'][:-1], color='#0000FF', alpha=0.2)\n",
    "\n",
    "plt.plot(np.linspace(0,1,29), d2['mean'][:-1], color='#FF0000', label=\"CG n=\" + str(len(d2.columns)-3))\n",
    "plt.fill_between(np.linspace(0,1,29), d2['lower'][:-1], d2['upper'][:-1], color='#FF0000', alpha=0.2)\n",
    "\n",
    "plt.xlabel('Distance from the Nuclear Boundary', fontsize=20)\n",
    "plt.ylabel('Signal Intensity', fontsize=20)\n",
    "plt.title('Lamin A/C Singal Localization',fontsize=22)\n",
    "plt.xticks(fontsize=16)\n",
    "plt.yticks(fontsize=16)\n",
    "plt.legend(loc=\"upper right\", fontsize=20)\n",
    "plt.xlim(0, 1)\n",
    "plt.savefig(\"Nuclear Localization/Figures/Lamin Chondro D1.png\", dpi = 300)\n",
    "plt.show()"
   ]
  },
  {
   "cell_type": "markdown",
   "id": "fb1decb4",
   "metadata": {},
   "source": [
    "### H3K9me3 Day 1 Chonrogenesis"
   ]
  },
  {
   "cell_type": "code",
   "execution_count": null,
   "id": "ae4538a7",
   "metadata": {
    "scrolled": true
   },
   "outputs": [],
   "source": [
    "# SG\n",
    "path = \"\"\n",
    "images = os.listdir(path)\n",
    "images.sort()\n",
    "df_H3K9me3_SG = findIntensities(images, 'blue', 'green')"
   ]
  },
  {
   "cell_type": "code",
   "execution_count": null,
   "id": "70ee524a",
   "metadata": {},
   "outputs": [],
   "source": [
    "# CG\n",
    "path = \"\"\n",
    "images = os.listdir(path)\n",
    "images.sort()\n",
    "df_H3K9me3_CG = findIntensities(images, 'blue', 'green')"
   ]
  },
  {
   "cell_type": "code",
   "execution_count": null,
   "id": "87d297b4",
   "metadata": {},
   "outputs": [],
   "source": [
    "df_H3K9me3_SG.to_csv(\"Nuclear Localization/Final Data/df_H3K9me3_SG.csv\")\n",
    "df_H3K9me3_CG.to_csv(\"Nuclear Localization/Final Data/df_H3K9me3_CG.csv\")"
   ]
  },
  {
   "cell_type": "code",
   "execution_count": null,
   "id": "60f6ff09",
   "metadata": {},
   "outputs": [],
   "source": [
    "# d1 = df_H3K9me3_SG\n",
    "# d2 = df_H3K9me3_CG\n",
    "\n",
    "d1 = pd.read_csv(\"Nuclear Localization/Final Data/df_H3K9me3_SG.csv\")\n",
    "d2 = pd.read_csv(\"Nuclear Localization/Final Data/df_H3K9me3_CG.csv\")\n",
    "\n",
    "plt.figure(figsize=(8, 8), dpi=300)\n",
    "plt.style.use('default')\n",
    "\n",
    "plt.plot(np.linspace(0,1,29), d1['mean'][:-1], color = '#0000FF', label=\"SG n=\" + str(len(d1.columns)-3))\n",
    "plt.fill_between(np.linspace(0,1,29), d1['lower'][:-1], d1['upper'][:-1], color='#0000FF', alpha=0.2)\n",
    "\n",
    "plt.plot(np.linspace(0,1,29), d2['mean'][:-1], color='#FF0000', label=\"CG n=\" + str(len(d2.columns)-3))\n",
    "plt.fill_between(np.linspace(0,1,29), d2['lower'][:-1], d2['upper'][:-1], color='#FF0000', alpha=0.2)\n",
    "\n",
    "plt.xlabel('Distance from the Nuclear Boundary', fontsize=20)\n",
    "plt.ylabel('Signal Intensity', fontsize=20)\n",
    "plt.title('H3K9me3 Signal Localization', fontsize=22)\n",
    "plt.xticks(fontsize=16)\n",
    "plt.yticks(fontsize=16)\n",
    "plt.legend(loc=\"upper right\", fontsize=20)\n",
    "plt.xlim(0, 1)\n",
    "plt.savefig(\"Nuclear Localization/Figures/H3K9me3 Chondro D1.png\", dpi = 300)\n",
    "plt.show()"
   ]
  },
  {
   "cell_type": "markdown",
   "id": "670d3fa1",
   "metadata": {},
   "source": [
    "### H3K27me3 Day 1 Chonrogenesis"
   ]
  },
  {
   "cell_type": "code",
   "execution_count": null,
   "id": "029ffc20",
   "metadata": {},
   "outputs": [],
   "source": [
    "# SG\n",
    "path = \"\"\n",
    "images = os.listdir(path)\n",
    "images.sort()\n",
    "df_H3K27me3_SG = findIntensities(images, 'blue', 'green')"
   ]
  },
  {
   "cell_type": "code",
   "execution_count": null,
   "id": "c27007b5",
   "metadata": {},
   "outputs": [],
   "source": [
    "# CG\n",
    "path = \"\"\n",
    "images = os.listdir(path)\n",
    "images.sort()\n",
    "df_H3K27me3_CG = findIntensities(images, 'blue', 'green')"
   ]
  },
  {
   "cell_type": "code",
   "execution_count": null,
   "id": "c2d3e9f8",
   "metadata": {},
   "outputs": [],
   "source": [
    "df_H3K27me3_SG.to_csv(\"Nuclear Localization/Final Data/df_H3K27me3_SG.csv\")\n",
    "df_H3K27me3_CG.to_csv(\"Nuclear Localization/Final Data/df_H3K27me3_CG.csv\")"
   ]
  },
  {
   "cell_type": "code",
   "execution_count": null,
   "id": "67c0d81f",
   "metadata": {},
   "outputs": [],
   "source": [
    "# d1 = df_H3K27me3_SG\n",
    "# d2 = df_H3K27me3_CG\n",
    "\n",
    "d1 = pd.read_csv(\"Nuclear Localization/Final Data/df_H3K27me3_SG.csv\")\n",
    "d2 = pd.read_csv(\"Nuclear Localization/Final Data/df_H3K27me3_CG.csv\")\n",
    "\n",
    "plt.figure(figsize=(8, 8), dpi=300)\n",
    "plt.style.use('default')\n",
    "\n",
    "plt.plot(np.linspace(0,1,29), d1['mean'][:-1], color = '#0000FF', label=\"SG n=\" + str(len(d1.columns)-3))\n",
    "plt.fill_between(np.linspace(0,1,29), d1['lower'][:-1], d1['upper'][:-1], color='#0000FF', alpha=0.2)\n",
    "\n",
    "plt.plot(np.linspace(0,1,29), d2['mean'][:-1], color='#FF0000', label=\"CG n=\" + str(len(d2.columns)-3))\n",
    "plt.fill_between(np.linspace(0,1,29), d2['lower'][:-1], d2['upper'][:-1], color='#FF0000', alpha=0.2)\n",
    "\n",
    "plt.xlabel('Distance from the Nuclear Boundary', fontsize=20)\n",
    "plt.ylabel('Signal Intensity', fontsize=20)\n",
    "plt.title('H3K27me3 Signal Localization', fontsize=22)\n",
    "plt.xticks(fontsize=16)\n",
    "plt.yticks(fontsize=16)\n",
    "plt.legend(loc=\"upper right\", fontsize=20)\n",
    "plt.xlim(0, 1)\n",
    "plt.savefig(\"Nuclear Localization/Figures/H3K27me3 Chondro D1.png\", dpi = 300)\n",
    "plt.show()"
   ]
  },
  {
   "cell_type": "markdown",
   "id": "3b3a4e0a",
   "metadata": {},
   "source": [
    "### DAPI Day 1 Chonrogenesis"
   ]
  },
  {
   "cell_type": "code",
   "execution_count": null,
   "id": "09b6423a",
   "metadata": {
    "scrolled": true
   },
   "outputs": [],
   "source": [
    "# SG\n",
    "path = \"\"\n",
    "images = os.listdir(path)\n",
    "images.sort()\n",
    "df_DAPI_SG = findIntensities(images, 'blue', 'blue')"
   ]
  },
  {
   "cell_type": "code",
   "execution_count": null,
   "id": "e65b8e0d",
   "metadata": {
    "scrolled": true
   },
   "outputs": [],
   "source": [
    "# CG\n",
    "path = \"\"\n",
    "images = os.listdir(path)\n",
    "images.sort()\n",
    "df_DAPI_CG = findIntensities(images, 'blue', 'blue')"
   ]
  },
  {
   "cell_type": "code",
   "execution_count": null,
   "id": "f52e5cc0",
   "metadata": {},
   "outputs": [],
   "source": [
    "df_DAPI_SG.to_csv(\"Nuclear Localization/Final Data/df_DAPI_SG.csv\")\n",
    "df_DAPI_CG.to_csv(\"Nuclear Localization/Final Data/df_DAPI_CG.csv\")"
   ]
  },
  {
   "cell_type": "code",
   "execution_count": null,
   "id": "249ce20e",
   "metadata": {},
   "outputs": [],
   "source": [
    "d1 = df_DAPI_SG\n",
    "d2 = df_DAPI_CG\n",
    "\n",
    "plt.figure(figsize=(8, 8), dpi=300)\n",
    "plt.style.use('default')\n",
    "\n",
    "plt.plot(np.linspace(0,1,29), d1['mean'][:-1], color = '#0000FF', label=\"SG n=\" + str(len(d1.columns)-3))\n",
    "plt.fill_between(np.linspace(0,1,29), d1['lower'][:-1], d1['upper'][:-1], color='#0000FF', alpha=0.2)\n",
    "\n",
    "plt.plot(np.linspace(0,1,29), d2['mean'][:-1], color='#FF0000', label=\"CG n=\" + str(len(d2.columns)-3))\n",
    "plt.fill_between(np.linspace(0,1,29), d2['lower'][:-1], d2['upper'][:-1], color='#FF0000', alpha=0.2)\n",
    "\n",
    "plt.xlabel('Relative Distance from the Nuclear Boundary')\n",
    "plt.ylabel('Signal Intensity')\n",
    "plt.title('DAPI Singal Localization')\n",
    "plt.legend(loc=\"upper right\")\n",
    "plt.xlim(0, 1)\n",
    "plt.savefig(\"Nuclear Localization/Figures/DAPI Chondro D1.png\", dpi = 300)\n",
    "plt.show()"
   ]
  },
  {
   "cell_type": "markdown",
   "id": "3631281b",
   "metadata": {},
   "source": [
    "### H3K27ac Day 1 Chonrogenesis"
   ]
  },
  {
   "cell_type": "code",
   "execution_count": null,
   "id": "76d809b3",
   "metadata": {
    "scrolled": true
   },
   "outputs": [],
   "source": [
    "# SG\n",
    "path = \"\"\n",
    "images = os.listdir(path)\n",
    "images.sort()\n",
    "df_H3K27ac_SG = findIntensities(images, 'blue', 'green')"
   ]
  },
  {
   "cell_type": "code",
   "execution_count": null,
   "id": "b0bb814f",
   "metadata": {},
   "outputs": [],
   "source": [
    "# CG\n",
    "path = \"\"\n",
    "images = os.listdir(path)\n",
    "images.sort()\n",
    "df_H3K27ac_CG = findIntensities(images, 'blue', 'green')"
   ]
  },
  {
   "cell_type": "code",
   "execution_count": null,
   "id": "c4fc3c5c",
   "metadata": {},
   "outputs": [],
   "source": [
    "df_H3K27ac_SG.to_csv(\"Nuclear Localization/Final Data/df_H3K27ac_SG.csv\")\n",
    "df_H3K27ac_CG.to_csv(\"Nuclear Localization/Final Data/df_H3K27ac_CG.csv\")"
   ]
  },
  {
   "cell_type": "code",
   "execution_count": null,
   "id": "8f72df3e",
   "metadata": {
    "scrolled": false
   },
   "outputs": [],
   "source": [
    "d1 = df_H3K27ac_SG\n",
    "d2 = df_H3K27ac_CG\n",
    "\n",
    "plt.figure(figsize=(8, 8), dpi=300)\n",
    "plt.style.use('default')\n",
    "\n",
    "plt.plot(np.linspace(0,1,29), d1['mean'][:-1], color = '#0000FF', label=\"SG n=\" + str(len(d1.columns)-3))\n",
    "plt.fill_between(np.linspace(0,1,29), d1['lower'][:-1], d1['upper'][:-1], color='#0000FF', alpha=0.2)\n",
    "\n",
    "plt.plot(np.linspace(0,1,29), d2['mean'][:-1], color='#FF0000', label=\"CG n=\" + str(len(d2.columns)-3))\n",
    "plt.fill_between(np.linspace(0,1,29), d2['lower'][:-1], d2['upper'][:-1], color='#FF0000', alpha=0.2)\n",
    "\n",
    "plt.xlabel('Relative Distance from the Nuclear Boundary')\n",
    "plt.ylabel('Signal Intensity')\n",
    "plt.title('H3K27ac Singal Localization')\n",
    "plt.legend(loc=\"upper right\")\n",
    "plt.xlim(0, 1)\n",
    "plt.savefig(\"Nuclear Localization/Figures/H3K27ac Chondro D1.png\", dpi = 300)\n",
    "plt.show()"
   ]
  },
  {
   "cell_type": "markdown",
   "id": "e018a3f7",
   "metadata": {},
   "source": [
    "### AcK Day 1 Chonrogenesis"
   ]
  },
  {
   "cell_type": "code",
   "execution_count": null,
   "id": "5d39a410",
   "metadata": {
    "scrolled": true
   },
   "outputs": [],
   "source": [
    "# SG\n",
    "path = \"\"\n",
    "images = os.listdir(path)\n",
    "images.sort()\n",
    "df_AcK_SG = findIntensities(images, 'blue', 'green')"
   ]
  },
  {
   "cell_type": "code",
   "execution_count": null,
   "id": "8b5e4cb6",
   "metadata": {},
   "outputs": [],
   "source": [
    "# CG\n",
    "path = \"\"\n",
    "images = os.listdir(path)\n",
    "images.sort()\n",
    "df_AcK_CG = findIntensities(images, 'blue', 'green')"
   ]
  },
  {
   "cell_type": "code",
   "execution_count": null,
   "id": "d6bec296",
   "metadata": {},
   "outputs": [],
   "source": [
    "df_AcK_SG.to_csv(\"Nuclear Localization/Final Data/df_AcK_SG.csv\")\n",
    "df_AcK_CG.to_csv(\"Nuclear Localization/Final Data/df_AcK_CG.csv\")"
   ]
  },
  {
   "cell_type": "code",
   "execution_count": null,
   "id": "03e70386",
   "metadata": {},
   "outputs": [],
   "source": [
    "d1 = df_AcK_SG\n",
    "d2 = df_AcK_CG\n",
    "\n",
    "plt.figure(figsize=(8, 8), dpi=300)\n",
    "plt.style.use('default')\n",
    "\n",
    "plt.plot(np.linspace(0,1,29), d1['mean'][:-1], color = '#0000FF', label=\"SG n=\" + str(len(d1.columns)-3))\n",
    "plt.fill_between(np.linspace(0,1,29), d1['lower'][:-1], d1['upper'][:-1], color='#0000FF', alpha=0.2)\n",
    "\n",
    "plt.plot(np.linspace(0,1,29), d2['mean'][:-1], color='#FF0000', label=\"CG n=\" + str(len(d2.columns)-3))\n",
    "plt.fill_between(np.linspace(0,1,29), d2['lower'][:-1], d2['upper'][:-1], color='#FF0000', alpha=0.2)\n",
    "\n",
    "plt.xlabel('Relative Distance from the Nuclear Boundary')\n",
    "plt.ylabel('Signal Intensity')\n",
    "plt.title('AcK Singal Localization')\n",
    "plt.legend(loc=\"upper right\")\n",
    "plt.xlim(0, 1)\n",
    "plt.savefig(\"Nuclear Localization/Figures/AcK Chondro D1.png\", dpi = 300)\n",
    "plt.show()"
   ]
  },
  {
   "cell_type": "code",
   "execution_count": null,
   "id": "e4156d9e",
   "metadata": {},
   "outputs": [],
   "source": []
  }
 ],
 "metadata": {
  "kernelspec": {
   "display_name": "Python 3 (ipykernel)",
   "language": "python",
   "name": "python3"
  },
  "language_info": {
   "codemirror_mode": {
    "name": "ipython",
    "version": 3
   },
   "file_extension": ".py",
   "mimetype": "text/x-python",
   "name": "python",
   "nbconvert_exporter": "python",
   "pygments_lexer": "ipython3",
   "version": "3.9.12"
  }
 },
 "nbformat": 4,
 "nbformat_minor": 5
}
